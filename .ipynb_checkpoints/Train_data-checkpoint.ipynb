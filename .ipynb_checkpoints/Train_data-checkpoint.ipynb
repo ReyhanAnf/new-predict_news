{
 "cells": [
  {
   "cell_type": "code",
   "execution_count": 1,
   "id": "203c56b8-b3ae-45de-ba00-64a7b9af8eb4",
   "metadata": {},
   "outputs": [],
   "source": [
    "import pandas as pd"
   ]
  },
  {
   "cell_type": "markdown",
   "id": "4bee1eb1-cefb-48ea-a005-1f046bcf8b84",
   "metadata": {},
   "source": [
    "## Import data"
   ]
  },
  {
   "cell_type": "code",
   "execution_count": 41,
   "id": "ed885aaf-8293-4b8d-ac28-04f9883c864e",
   "metadata": {},
   "outputs": [
    {
     "data": {
      "text/html": [
       "<div>\n",
       "<style scoped>\n",
       "    .dataframe tbody tr th:only-of-type {\n",
       "        vertical-align: middle;\n",
       "    }\n",
       "\n",
       "    .dataframe tbody tr th {\n",
       "        vertical-align: top;\n",
       "    }\n",
       "\n",
       "    .dataframe thead th {\n",
       "        text-align: right;\n",
       "    }\n",
       "</style>\n",
       "<table border=\"1\" class=\"dataframe\">\n",
       "  <thead>\n",
       "    <tr style=\"text-align: right;\">\n",
       "      <th></th>\n",
       "      <th>Unnamed: 0</th>\n",
       "      <th>text</th>\n",
       "      <th>label</th>\n",
       "    </tr>\n",
       "    <tr>\n",
       "      <th>title</th>\n",
       "      <th></th>\n",
       "      <th></th>\n",
       "      <th></th>\n",
       "    </tr>\n",
       "  </thead>\n",
       "  <tbody>\n",
       "    <tr>\n",
       "      <th>You Can Smell Hillary’s Fear</th>\n",
       "      <td>8476</td>\n",
       "      <td>Daniel Greenfield, a Shillman Journalism Fello...</td>\n",
       "      <td>FAKE</td>\n",
       "    </tr>\n",
       "    <tr>\n",
       "      <th>Watch The Exact Moment Paul Ryan Committed Political Suicide At A Trump Rally (VIDEO)</th>\n",
       "      <td>10294</td>\n",
       "      <td>Google Pinterest Digg Linkedin Reddit Stumbleu...</td>\n",
       "      <td>FAKE</td>\n",
       "    </tr>\n",
       "    <tr>\n",
       "      <th>Kerry to go to Paris in gesture of sympathy</th>\n",
       "      <td>3608</td>\n",
       "      <td>U.S. Secretary of State John F. Kerry said Mon...</td>\n",
       "      <td>REAL</td>\n",
       "    </tr>\n",
       "    <tr>\n",
       "      <th>Bernie supporters on Twitter erupt in anger against the DNC: 'We tried to warn you!'</th>\n",
       "      <td>10142</td>\n",
       "      <td>— Kaydee King (@KaydeeKing) November 9, 2016 T...</td>\n",
       "      <td>FAKE</td>\n",
       "    </tr>\n",
       "    <tr>\n",
       "      <th>The Battle of New York: Why This Primary Matters</th>\n",
       "      <td>875</td>\n",
       "      <td>It's primary day in New York and front-runners...</td>\n",
       "      <td>REAL</td>\n",
       "    </tr>\n",
       "    <tr>\n",
       "      <th>...</th>\n",
       "      <td>...</td>\n",
       "      <td>...</td>\n",
       "      <td>...</td>\n",
       "    </tr>\n",
       "    <tr>\n",
       "      <th>State Department says it can't find emails from Clinton IT specialist</th>\n",
       "      <td>4490</td>\n",
       "      <td>The State Department told the Republican Natio...</td>\n",
       "      <td>REAL</td>\n",
       "    </tr>\n",
       "    <tr>\n",
       "      <th>The ‘P’ in PBS Should Stand for ‘Plutocratic’ or ‘Pentagon’</th>\n",
       "      <td>8062</td>\n",
       "      <td>The ‘P’ in PBS Should Stand for ‘Plutocratic’ ...</td>\n",
       "      <td>FAKE</td>\n",
       "    </tr>\n",
       "    <tr>\n",
       "      <th>Anti-Trump Protesters Are Tools of the Oligarchy     : Information</th>\n",
       "      <td>8622</td>\n",
       "      <td>Anti-Trump Protesters Are Tools of the Oligar...</td>\n",
       "      <td>FAKE</td>\n",
       "    </tr>\n",
       "    <tr>\n",
       "      <th>In Ethiopia, Obama seeks progress on peace, security in East Africa</th>\n",
       "      <td>4021</td>\n",
       "      <td>ADDIS ABABA, Ethiopia —President Obama convene...</td>\n",
       "      <td>REAL</td>\n",
       "    </tr>\n",
       "    <tr>\n",
       "      <th>Jeb Bush Is Suddenly Attacking Trump. Here's Why That Matters</th>\n",
       "      <td>4330</td>\n",
       "      <td>Jeb Bush Is Suddenly Attacking Trump. Here's W...</td>\n",
       "      <td>REAL</td>\n",
       "    </tr>\n",
       "  </tbody>\n",
       "</table>\n",
       "<p>6335 rows × 3 columns</p>\n",
       "</div>"
      ],
      "text/plain": [
       "                                                    Unnamed: 0  \\\n",
       "title                                                            \n",
       "You Can Smell Hillary’s Fear                              8476   \n",
       "Watch The Exact Moment Paul Ryan Committed Poli...       10294   \n",
       "Kerry to go to Paris in gesture of sympathy               3608   \n",
       "Bernie supporters on Twitter erupt in anger aga...       10142   \n",
       "The Battle of New York: Why This Primary Matters           875   \n",
       "...                                                        ...   \n",
       "State Department says it can't find emails from...        4490   \n",
       "The ‘P’ in PBS Should Stand for ‘Plutocratic’ o...        8062   \n",
       "Anti-Trump Protesters Are Tools of the Oligarch...        8622   \n",
       "In Ethiopia, Obama seeks progress on peace, sec...        4021   \n",
       "Jeb Bush Is Suddenly Attacking Trump. Here's Wh...        4330   \n",
       "\n",
       "                                                                                                 text  \\\n",
       "title                                                                                                   \n",
       "You Can Smell Hillary’s Fear                        Daniel Greenfield, a Shillman Journalism Fello...   \n",
       "Watch The Exact Moment Paul Ryan Committed Poli...  Google Pinterest Digg Linkedin Reddit Stumbleu...   \n",
       "Kerry to go to Paris in gesture of sympathy         U.S. Secretary of State John F. Kerry said Mon...   \n",
       "Bernie supporters on Twitter erupt in anger aga...  — Kaydee King (@KaydeeKing) November 9, 2016 T...   \n",
       "The Battle of New York: Why This Primary Matters    It's primary day in New York and front-runners...   \n",
       "...                                                                                               ...   \n",
       "State Department says it can't find emails from...  The State Department told the Republican Natio...   \n",
       "The ‘P’ in PBS Should Stand for ‘Plutocratic’ o...  The ‘P’ in PBS Should Stand for ‘Plutocratic’ ...   \n",
       "Anti-Trump Protesters Are Tools of the Oligarch...   Anti-Trump Protesters Are Tools of the Oligar...   \n",
       "In Ethiopia, Obama seeks progress on peace, sec...  ADDIS ABABA, Ethiopia —President Obama convene...   \n",
       "Jeb Bush Is Suddenly Attacking Trump. Here's Wh...  Jeb Bush Is Suddenly Attacking Trump. Here's W...   \n",
       "\n",
       "                                                   label  \n",
       "title                                                     \n",
       "You Can Smell Hillary’s Fear                        FAKE  \n",
       "Watch The Exact Moment Paul Ryan Committed Poli...  FAKE  \n",
       "Kerry to go to Paris in gesture of sympathy         REAL  \n",
       "Bernie supporters on Twitter erupt in anger aga...  FAKE  \n",
       "The Battle of New York: Why This Primary Matters    REAL  \n",
       "...                                                  ...  \n",
       "State Department says it can't find emails from...  REAL  \n",
       "The ‘P’ in PBS Should Stand for ‘Plutocratic’ o...  FAKE  \n",
       "Anti-Trump Protesters Are Tools of the Oligarch...  FAKE  \n",
       "In Ethiopia, Obama seeks progress on peace, sec...  REAL  \n",
       "Jeb Bush Is Suddenly Attacking Trump. Here's Wh...  REAL  \n",
       "\n",
       "[6335 rows x 3 columns]"
      ]
     },
     "execution_count": 41,
     "metadata": {},
     "output_type": "execute_result"
    }
   ],
   "source": [
    "df = pd.read_csv(\"./data/fake_or_real_news.csv\", index_col=raw_data.columns[0])\n",
    "df"
   ]
  },
  {
   "cell_type": "code",
   "execution_count": 49,
   "id": "5e4f8243-d6f2-485f-b308-2d5e04bd3b10",
   "metadata": {},
   "outputs": [
    {
     "data": {
      "text/plain": [
       "title\n",
       "You Can Smell Hillary’s Fear                                                             FAKE\n",
       "Watch The Exact Moment Paul Ryan Committed Political Suicide At A Trump Rally (VIDEO)    FAKE\n",
       "Kerry to go to Paris in gesture of sympathy                                              REAL\n",
       "Bernie supporters on Twitter erupt in anger against the DNC: 'We tried to warn you!'     FAKE\n",
       "The Battle of New York: Why This Primary Matters                                         REAL\n",
       "                                                                                         ... \n",
       "State Department says it can't find emails from Clinton IT specialist                    REAL\n",
       "The ‘P’ in PBS Should Stand for ‘Plutocratic’ or ‘Pentagon’                              FAKE\n",
       "Anti-Trump Protesters Are Tools of the Oligarchy     : Information                       FAKE\n",
       "In Ethiopia, Obama seeks progress on peace, security in East Africa                      REAL\n",
       "Jeb Bush Is Suddenly Attacking Trump. Here's Why That Matters                            REAL\n",
       "Name: label, Length: 6335, dtype: object"
      ]
     },
     "execution_count": 49,
     "metadata": {},
     "output_type": "execute_result"
    }
   ],
   "source": [
    "labels = df.label\n",
    "labels"
   ]
  },
  {
   "cell_type": "code",
   "execution_count": 47,
   "id": "0c056330-724e-4b67-b941-447e862173f8",
   "metadata": {},
   "outputs": [
    {
     "data": {
      "text/plain": [
       "label\n",
       "REAL    3171\n",
       "FAKE    3164\n",
       "Name: count, dtype: int64"
      ]
     },
     "execution_count": 47,
     "metadata": {},
     "output_type": "execute_result"
    }
   ],
   "source": [
    "target=df.label.value_counts()\n",
    "target"
   ]
  },
  {
   "cell_type": "code",
   "execution_count": null,
   "id": "569faff1-65da-4a26-856f-49fff48d299c",
   "metadata": {},
   "outputs": [],
   "source": [
    "sns.countplot(df.label)\n",
    "plt.title('the number of news fake/real');"
   ]
  },
  {
   "cell_type": "markdown",
   "id": "6d296ffc-eed5-4a6b-ae7a-d380831da11a",
   "metadata": {},
   "source": [
    "## Add Customize data"
   ]
  },
  {
   "cell_type": "code",
   "execution_count": 10,
   "id": "9fbdcc85-b89b-4e37-bed1-ba0a7be164f8",
   "metadata": {},
   "outputs": [],
   "source": [
    "import requests\n",
    "import googletrans\n",
    "from bs4 import BeautifulSoup"
   ]
  },
  {
   "cell_type": "code",
   "execution_count": 53,
   "id": "bcde6336-bebd-4eab-93d6-0e4b3760ea70",
   "metadata": {},
   "outputs": [
    {
     "name": "stdin",
     "output_type": "stream",
     "text": [
      "URL :   https://www.detik.com/jogja/berita/d-7367498/dihantam-gelombang-tinggi-tanggul-12-meter-di-tpi-baron-ambrol/amp\n"
     ]
    },
    {
     "data": {
      "text/plain": [
       "[<p>Tanggul penahan gelombang di tempat pelelangan ikan (TPI) pantai Baron di Kapanewon Tanjungsari, Kabupaten Gunungkidul ambrol. Kabar ambrolnya tanggul tersebut sempat viral di media sosial.</p>,\n",
       " <p>Kabar ambrolnya tanggul diunggah media sosial Instagram oleh akun @updatedisini pada Jumat (31/5). Akun tersebut menarasikan tanggul ambrol usai dihantam gelombang pasang beberapa hari belakangan di pantai kawasan Gunungkidul.</p>,\n",
       " <p>\"<em>Detik Detik Tanggul TPI Pantai Baron Ambrol. Pasca gelombang pasang yang terjadi beberapa hari kemarin, Tanggul pengaman TPI (Tempat Pelelangan Ikan) ambruk.</em><br/><em>Ambruknya tanggul tersebut diduga dikarenakan pasir penahan tanggul terkikis oleh air saat terjadi gelombang pasang. (31/05/2024) Pagi</em>,\" tulis akun itu seperti dilihat <strong>detikJogja</strong>, Jumat (31/5/2024).</p>,\n",
       " <p>Dari video yang diunggah itu tampak tanggul perlahan roboh terjatuh ke laut. Hanya sebagian tanggul yang roboh dan sisanya masih berdiri.</p>,\n",
       " <p>Robohnya tanggul disaksikan oleh sejumlah warga yang berada di TPI Baron. Kemudian warga mengerumuni tanggul dan menyelamatkan beberapa benda.</p>,\n",
       " <p>Dimintai konfirmasi, Kepala Pelaksana Tugas BPBD Gunungkidul, Purwono membenarkan kejadian itu. Purwono mengatakan, tanggul roboh pada hari ini, Jumat (31/5). Beruntung tidak ada korban akibat robohnya tanggul tersebut.</p>,\n",
       " <p>\"Kejadian sekitar 07.30 pagi tadi. Tidak ada korban,\" ungkap Purwono kepada wartawan melalui telepon, Jumat (31/5).</p>,\n",
       " <p>Purwono mengatakan tanggul ambrol akibat dampak dari gelombang tinggi yang terjadi di pantai di kawasan Gunungkidul. Adapun panjang tanggul yang ambrol berkisar 12 meter.</p>,\n",
       " <p>\"Kejadian itu dampak gelombang tinggi. Tanggul kurang lebih 12 meter yang roboh. Total panjangnya 20 meter,\" katanya.</p>,\n",
       " <p>Tanggul tersebut, kata Purwono, berfungsi untuk melindungi TPI Baron dari ancaman gelombang tinggi dan air laut. Saat ini pihaknya masih menginventarisasi kerugian dan akan melaporkan ke Sekretaris Daerah (Sekda) Gunungkidul, Sri Suhartanta.</p>,\n",
       " <p>\"Ini baru kita inventarisasi kerugian dan dampak kerusakan dan akan dilaporkan ke pimpinan, Pak Sekda,\" tuturnya.</p>,\n",
       " <p>Purwono menyebutkan tanggul tersebut dibangun sekitar tiga tahun lalu. Adapun material bangunannya berasal dari cor beton.</p>,\n",
       " <p>\"Itu cor beton. Dibangun sekitar tiga tahun lalu,\"pungkasnya.</p>]"
      ]
     },
     "execution_count": 53,
     "metadata": {},
     "output_type": "execute_result"
    }
   ],
   "source": [
    "url = input(\"URL :  \")\n",
    "\n",
    "raw_url = requests.get(url)\n",
    "bs4 = BeautifulSoup(raw_url.content, \"html.parser\")\n",
    "a = bs4.find_all(\"p\")\n",
    "text = \"\"\n",
    "\n",
    "\n",
    "a"
   ]
  },
  {
   "cell_type": "code",
   "execution_count": null,
   "id": "b4221030-d17d-4d48-8526-430603a34e96",
   "metadata": {},
   "outputs": [],
   "source": []
  },
  {
   "cell_type": "code",
   "execution_count": null,
   "id": "d011b4a8-1637-4804-a838-e4fa7a292518",
   "metadata": {},
   "outputs": [],
   "source": []
  },
  {
   "cell_type": "code",
   "execution_count": null,
   "id": "0a5531e7-8400-4fe0-9a21-61427415e999",
   "metadata": {},
   "outputs": [],
   "source": []
  },
  {
   "cell_type": "markdown",
   "id": "7a8099d2-fb4f-4fad-bb40-31605836c78b",
   "metadata": {},
   "source": [
    "## Processing"
   ]
  },
  {
   "cell_type": "code",
   "execution_count": 36,
   "id": "7c9304b5-e082-49b7-b654-9cd1e66ccfe7",
   "metadata": {},
   "outputs": [],
   "source": [
    "import numpy as np\n",
    "import pandas as pd\n",
    "import matplotlib.pyplot as plt\n",
    "import matplotlib\n",
    "import seaborn as sns\n",
    "import more_itertools\n",
    "from sklearn.model_selection import train_test_split\n",
    "from sklearn.feature_extraction.text import TfidfVectorizer\n",
    "from sklearn.linear_model import PassiveAggressiveClassifier\n",
    "from sklearn.metrics import accuracy_score, confusion_matrix"
   ]
  },
  {
   "cell_type": "code",
   "execution_count": 37,
   "id": "f183b654-7c1d-475e-be1a-a72043afeeb3",
   "metadata": {},
   "outputs": [],
   "source": [
    "#default theme\n",
    "plt.style.use('ggplot')\n",
    "sns.color_palette(\"tab10\")\n",
    "sns.set(context='notebook', style='darkgrid', font='sans-serif', font_scale=1, rc=None)\n",
    "matplotlib.rcParams['figure.figsize'] =[20,8]\n",
    "matplotlib.rcParams.update({'font.size': 15})\n",
    "matplotlib.rcParams['font.family'] = 'sans-serif'"
   ]
  },
  {
   "cell_type": "code",
   "execution_count": 50,
   "id": "812f22d6-cef3-4967-92d3-0205bd3c2dfe",
   "metadata": {},
   "outputs": [],
   "source": [
    "x_train,x_test,y_train,y_test=train_test_split(df['text'], labels, test_size=0.2, random_state=7)"
   ]
  },
  {
   "cell_type": "code",
   "execution_count": 51,
   "id": "da82059d-232d-46d1-a451-b25ca010c010",
   "metadata": {},
   "outputs": [],
   "source": [
    "#DataFlair - Initialize a TfidfVectorizer\n",
    "tfidf_vectorizer=TfidfVectorizer(stop_words='english', max_df=0.7)\n",
    "\n",
    "#DataFlair - Fit and transform train set, transform test set\n",
    "tfidf_train=tfidf_vectorizer.fit_transform(x_train) \n",
    "tfidf_test=tfidf_vectorizer.transform(x_test)"
   ]
  },
  {
   "cell_type": "code",
   "execution_count": 52,
   "id": "319273dd-4dcc-4a0e-bcc0-1005cff58b1d",
   "metadata": {},
   "outputs": [
    {
     "name": "stdout",
     "output_type": "stream",
     "text": [
      "Accuracy: 92.58%\n"
     ]
    }
   ],
   "source": [
    "#DataFlair - Initialize a PassiveAggressiveClassifier\n",
    "pac=PassiveAggressiveClassifier(max_iter=50)\n",
    "pac.fit(tfidf_train,y_train)\n",
    "\n",
    "#DataFlair - Predict on the test set and calculate accuracy\n",
    "y_pred=pac.predict(tfidf_test)\n",
    "score=accuracy_score(y_test,y_pred)\n",
    "print(f'Accuracy: {round(score*100,2)}%')"
   ]
  },
  {
   "cell_type": "code",
   "execution_count": 127,
   "id": "2739da5c-7d2e-470e-9b86-8c5cbe8ec7ee",
   "metadata": {},
   "outputs": [
    {
     "data": {
      "text/html": [
       "<div>\n",
       "<style scoped>\n",
       "    .dataframe tbody tr th:only-of-type {\n",
       "        vertical-align: middle;\n",
       "    }\n",
       "\n",
       "    .dataframe tbody tr th {\n",
       "        vertical-align: top;\n",
       "    }\n",
       "\n",
       "    .dataframe thead th {\n",
       "        text-align: right;\n",
       "    }\n",
       "</style>\n",
       "<table border=\"1\" class=\"dataframe\">\n",
       "  <thead>\n",
       "    <tr style=\"text-align: right;\">\n",
       "      <th></th>\n",
       "      <th>text</th>\n",
       "    </tr>\n",
       "  </thead>\n",
       "  <tbody>\n",
       "    <tr>\n",
       "      <th>0</th>\n",
       "      <td>\\n(CNN) The search for EgyptAir Flight 804 con...</td>\n",
       "    </tr>\n",
       "  </tbody>\n",
       "</table>\n",
       "</div>"
      ],
      "text/plain": [
       "                                                text\n",
       "0  \\n(CNN) The search for EgyptAir Flight 804 con..."
      ]
     },
     "execution_count": 127,
     "metadata": {},
     "output_type": "execute_result"
    }
   ],
   "source": [
    "test = {\n",
    "    \"text\" : [\n",
    "\"\"\"\n",
    "(CNN) The search for EgyptAir Flight 804 continues, amid contradicting reports about the aircraft\\'s final moments.\\n\\nAfter it disappeared en route from Paris to Cairo last week, some debris from the plane -- including life vests, personal belongings and parts of wreckage -- has been recovered.\\n\\nSmall fragments of human remains have also been found, and officials in the Egyptian capital are trying to identify and match them to victims. Families of the victims have nearly completed giving DNA samples to help with the grim task, EgyptAir\\'s vice chairman Ahmed Adel told CNN on Tuesday.\\n\\nBut it remains too early to determine from examining the remains whether or not there was an explosion on the flight, an official at the morgue told CNN.\\n\\nAdel said that media reports suggesting otherwise were \"all speculation.\"\\n\\n\"Any high velocity impact leads to defragmentations, and this is not indicative of what caused the accident,\" he said. \"Let\\'s not jump to conclusions.\"\\n\\nA key focus of the search is for the plane\\'s fuselage and the critical black boxes, which are expected to provide vital clues about what happened to the aircraft. Adel said EgyptAir had no information about the location of the fuselage, and that the multinational search team was focusing on an area \"about the size of Connecticut.\"\\n\\nAt the heart of the confusion over the final moments of the flight are conflicting reports from Greek and Egyptian authorities.\\n\\nThe flight was at 37,000 feet when it lost contact above the Mediterranean early on May 19, shortly before the aircraft was scheduled to exit Greek airspace and enter Egyptian airspace.\\n\\nInitially, Greek Defense Minister Panos Kammenos said that, upon entering Egyptian airspace, the aircraft swerved \"90 degrees left and then 360 degrees\" before plunging dramatically.\\n\\nAsked Tuesday about the conflicting accounts, Adel said that \"the decisive information is going to come from the black boxes, and they have not been retrieved yet.\"\\n\\nTime is working against the investigators -- as is the scope of the search area, with teams searching in waters as much as 10,000 feet deep. Egyptian and French submersibles are working in the area, in an attempt to find the flight data and cockpit voice recorders before their transponder batteries expire.\\n\\n\"The investigators are up against the clock,\" said aviation analyst Justin Green. \"If they don\\'t find the black boxes in the next 30 days the job of finding them is going to be much harder because the black boxes may no longer be sending out a sonar ping which will help them identify it.\"\\n\\nA representative of an organization devoted to families of French passengers said relatives aren\\'t sure they can trust the Egyptian investigation and want more involvement from France.\\n\\nStephane Gicquel, secretary general of the French National Federation of the Victims of Catastrophes, said \"there will be a way to track the investigation put in place by the French government with an appointed official to defend the interests of the families in the weeks and years to come.\"\\n\\nGicquel said the families are distrustful of Egypt, in part due to how the country \"cooperated very badly with the French authorities\" during the investigation of the 2004 crash of a jet carrying mostly French tourists taking off from the resort town of Sharm el-Sheikh.\\n\\nEgyptian government and airline officials have promised to be transparent in the investigation into what happened to the plane.\\n\\nThe Egyptian Civil Aviation Ministry investigative committee is being led by Ayman al-Moqadem, the investigator also in charge of the inquiry into the October crash of a Russian Metrojet airliner over Sinai. That disaster, which killed all 224 aboard, is widely believed to be the work of terrorists.\\n\\nA preliminary report of the investigation will be available within a month, Moqadem told state media Sunday.\\n\\nOn Saturday, French aviation officials revealed that an automated system aboard the plane sent messages about smoke in the front of the aircraft just before it crashed into the sea early Thursday en route from Paris to Cairo.\\n\\nFrance\\'s revelation confirmed flight data that CNN obtained from an Egyptian source. That technical data -- transmitted through Aircraft Communications Addressing and Reporting System, or ACARS, which sends messages between planes and ground facilities -- shows the plane transmitted 11 electronic messages after it departed Paris.\\n\\nThe first two messages showed engines were functional, but the next message at 00:26 GMT stated a rise in the co-pilot window temperature and sent out messages of smoke in locations such as the lavatory and avionics compartment below the cockpit. The alerts continued until the plane vanished from radar screens.\\n\\nA screen grab of data has time stamps that match the approximate time the aircraft went missing, although aviation experts cautioned the alerts don\\'t necessarily mean a fire occurred on the Airbus A320 or that the crew even knew about the alerts, which are automatically transmitted.\\n\\nThere have been electrical problems with window anti-ice heaters in A320s. In 2003, the Federal Aviation Administration required windshields replaced in all A320s in the United States. It\\'s not known whether Egypt followed the FAA directive.\\n\\nWith little physical evidence, the possibilities about what happened to the plane remain wide open, from a bomb to a mechanical malfunction to pilot error or even an intentional crash.\\n\\nNo group has claimed responsibility for taking down the jet, and as of now, investigators have found nothing implicating the flight crew or security officials aboard the plane, an Egyptian official said.\\n\\nChecks of the passenger manifest have so far resulted in no hits on terror watch lists, officials with knowledge of the investigation said.\\n\\nThe jet had routine maintenance checks in Cairo before it left for Paris, the airline said. Earlier Wednesday, the jet was also in Eritrea and Tunisia, data from flight-tracking websites show.'\n",
    "\"\"\"\n",
    "]\n",
    "}\n",
    "\n",
    "test2 = {\n",
    "    \"title\" : [\"Wapres Apresiasi Peningkatan Layanan Haji Pemerintah Arab Saudi\"],\n",
    "    \"text\" : [\n",
    "\"\"\"\n",
    "Jakarta Pusat, Kominfo – Wakil Presiden (Wapres) K.H. Ma’ruf Amin menilai pelayanan Haji oleh Pemerintah Arab Saudi terus meningkat dan semakin baik. Hal ini disampaikan Wapres kepada awak media Al Arabiya News Channel dalam tayangan video yang diunggah akun resmi Sekretariat Wakil Presiden pada Sabtu (08/06/2024).\n",
    "“Pelayanan untuk jemaah kami cukup memperoleh perhatian. Walaupun saya mengatakan pada beliau [pejabat Arab Saudi] bahwa Indonesia seharusnya ditambah lagi [kuotanya] karena di daerah-daerah harus menunggu hingga 50 tahun,” ungkapnya.\n",
    "Namun demikian, Mantan Ketua MUI ini, tetap menyampaikan rasa terima kasih dan penghargaan yang tinggi kepada Pemerintah Arab Saudi atas tambahan kuota haji yang diberikan setiap tahun, serta peningkatan kualitas pelayanan visa dan fasilitas di Arafah dan Mina.\n",
    "“Saya menyampaikan apresiasi dan penghargaan kepada pemerintah Saudi, karena pemerintah Saudi pertama memberikan tambahan kuota untuk tahun ini dan juga telah menyiapkan pelayanan-pelayanan yang sangat baik, [termasuk] pelayanan pengurusan visa sehingga visa itu cepat sekali [keluarnya],” tuturnya.\n",
    "Lebih lanjut, Wapres mengungkapkan bahwa semangat masyarakat Indonesia untuk beribadah haji sangat tinggi, bahkan bagi mereka yang pernah melaksanakan umroh. Namun sayangnya, di beberapa daerah masa tunggu haji sangat lama.\n",
    "“Andaikan diberi tambahan, berarti akan mempercepat walaupun hanya beberapa tahun akan memanfaatkan kuota itu,” harapnya.\n",
    "Lebih jauh pada kesempatan ini, Wapres menyampaikan berbagai pandangan terkait pelaksanaan haji, termasuk memuji koordinasi yang baik antara Pemerintah Indonesia dan Arab Saudi. Menurutnya, Menteri Haji Arab Saudi sendiri mengakui bahwa Indonesia termasuk negara dengan pengurusan administrasi yang sangat baik sehingga memudahkan koordinasi.\n",
    "“Walaupun sudah baik, tetapi kita terus berusaha memperbaiki. Karena haji ini memindahkan orang dalam waktu yang singkat. Saya menyebutnya banyak muskilat, masalah baru. Dan itu terus kita usahakan supaya tidak ada di tahun depan,” tegasnya.\n",
    "Selain itu, Wapres juga mengapresiasi kemajuan pesat pembangunan infrastruktur di Madinah guna mendukung pelaksanaan ibadah haji. Termasuk, perbaikan hotel dan pengaturan transportasi yang semakin modern dan dinamis.\n",
    "“Saya kira pembangunan yang paling cepat dan terus berkembang di dunia ini, salah satunya di Madinah. Ada perbaikan-perbaikan, penambahan hotel kemudian pengaturan-pengaturan selalu ada perbaikan, hal ini memudahkan orang untuk berhaji sehingga tidak terjadi penumpukan,” ujarnya.\n",
    "Terakhir, Wapres juga memuji peningkatan kapasitas lantai di Mina dan kelancaran transportasi di bandara baik di Jeddah maupun Madinah yang dapat menerima pesawat setiap lima menit.\n",
    "“Melayani jemaah haji dalam jumlah besar, menurut saya bukanlah hal mudah, dan itu patut diapresiasi, dikasih acungan jempol, karena pelayanan yang terus berbenah menuju perbaikan-perbaikan setiap tahunnya,” pungkas Wapres.\n",
    "\"\"\"\n",
    "]\n",
    "}\n",
    "\n",
    "testen = {\n",
    "    \"title\" : [ \"Hit by high waves, 12 meter embankment at TPI Baron collapsed\"],\n",
    "    \"text\" : [\"\"\"\n",
    "The wave-blocking embankment at the Baron Beach fish auction site (TPI) in Kapanewon Tanjungsari, Gunungkidul Regency collapsed. The news of the embankment collapsing went viral on social media.\n",
    "The news of the embankment collapse was uploaded on Instagram social media by the @updatedisini account on Friday (31/5). The account narrates that the embankment collapsed after being hit by tidal waves in the last few days on the coast of the Gunungkidul area.\n",
    "Seconds Seconds TPI Embankment Baron Beach Collapses. After the tidal wave that occurred several days ago, the TPI (Fish Auction Place) safety embankment collapsed. It is thought that the embankment collapsed because the sand holding the embankment was eroded by water during a tidal wave. (31/05/2024) In the morning, write the account as seen by detikJogja\n",
    "From the uploaded video, it appears that the embankment is slowly collapsing and falling into the sea. Only part of the embankment collapsed and the rest is still standing.\n",
    "The collapse of the embankment was witnessed by a number of residents at TPI Baron. Then residents gathered around the embankment and saved several objects.\n",
    "Asked for confirmation, the Head of the Gunungkidul BPBD, Purwono, confirmed the incident. Purwono said the embankment collapsed today, Friday (31/5). Luckily there were no victims due to the collapse of the embankment.\n",
    "It happened around 07.30 this morning. \"There were no victims,\" ​​Purwono told reporters by telephone, Friday (31/5).\n",
    "Purwono said the embankment collapsed due to the impact of high waves that occurred on the coast in the Gunungkidul area. The length of the embankment that collapsed was around 12 meters.\n",
    "\"The incident was caused by high waves. The embankment was approximately 12 meters long which collapsed. The total length was 20 meters,\" he said.\n",
    "The embankment, said Purwono, functions to protect TPI Baron from the threat of high waves and sea water. Currently, his party is still taking an inventory of losses and will report them to the Regional Secretary (Sekda) of Gunungkidul, Sri Suhartanta.\n",
    "\"We are just taking an inventory of the losses and impacts of the damage and will report it to the leadership, the Regional Secretary,\" he said.\n",
    "Purwono said the embankment was built about three years ago. The building material comes from cast concrete.\n",
    "\"It's cast concrete. It was built about three years ago,\" he concluded.\n",
    "\"\"\"]\n",
    "}\n",
    "\n",
    "df_test = pd.DataFrame(data=test)\n",
    "df_testen = pd.DataFrame(data=testen)\n",
    "df_test"
   ]
  },
  {
   "cell_type": "code",
   "execution_count": 128,
   "id": "4d4894a5-be86-4fec-97ca-0153faedaec4",
   "metadata": {},
   "outputs": [],
   "source": [
    "dft_vec = tfidf_vectorizer.transform(df_test)\n",
    "dftn_vec = tfidf_vectorizer.transform(df_testen)\n",
    "dft_pred = pac.predict(dft_vec)\n",
    "dftn_pred = pac.predict(dftn_vec)"
   ]
  },
  {
   "cell_type": "code",
   "execution_count": 129,
   "id": "50aecc05-f52a-4272-baf9-8f059088a17f",
   "metadata": {},
   "outputs": [
    {
     "data": {
      "text/plain": [
       "array(['FAKE', 'FAKE'], dtype='<U4')"
      ]
     },
     "execution_count": 129,
     "metadata": {},
     "output_type": "execute_result"
    }
   ],
   "source": [
    "dftn_pred"
   ]
  },
  {
   "cell_type": "code",
   "execution_count": 115,
   "id": "560d956a-9a80-4087-9cd4-34089548b2c6",
   "metadata": {},
   "outputs": [
    {
     "data": {
      "text/plain": [
       "Unnamed: 0                                                 3935\n",
       "text          (CNN) The search for EgyptAir Flight 804 conti...\n",
       "label                                                      REAL\n",
       "Name: EgyptAir Flight 804: Final moments questioned, dtype: object"
      ]
     },
     "execution_count": 115,
     "metadata": {},
     "output_type": "execute_result"
    }
   ],
   "source": [
    "df.iloc[3608]"
   ]
  },
  {
   "cell_type": "code",
   "execution_count": null,
   "id": "55356dfe-50dc-4805-a0b1-f62040b6af28",
   "metadata": {},
   "outputs": [],
   "source": []
  },
  {
   "cell_type": "code",
   "execution_count": null,
   "id": "feb98969-9572-4be0-aea9-e1657e4720af",
   "metadata": {},
   "outputs": [],
   "source": []
  }
 ],
 "metadata": {
  "kernelspec": {
   "display_name": "Python [conda env:jcopml] *",
   "language": "python",
   "name": "conda-env-jcopml-py"
  },
  "language_info": {
   "codemirror_mode": {
    "name": "ipython",
    "version": 3
   },
   "file_extension": ".py",
   "mimetype": "text/x-python",
   "name": "python",
   "nbconvert_exporter": "python",
   "pygments_lexer": "ipython3",
   "version": "3.12.0"
  }
 },
 "nbformat": 4,
 "nbformat_minor": 5
}
